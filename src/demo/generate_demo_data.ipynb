{
 "cells": [
  {
   "cell_type": "code",
   "execution_count": 6,
   "metadata": {},
   "outputs": [
    {
     "name": "stdout",
     "output_type": "stream",
     "text": [
      "Demo train data shape: (2000, 5)\n",
      "Demo validation data shape: (200, 5)\n",
      "Demo test data shape: (400, 4)\n",
      "\n",
      "Train set sınıf dağılımı:\n",
      "label\n",
      "0    1000\n",
      "1    1000\n",
      "Name: count, dtype: int64\n",
      "\n",
      "Validation set sınıf dağılımı:\n",
      "label\n",
      "1    100\n",
      "0    100\n",
      "Name: count, dtype: int64\n",
      "\n",
      "Test set sınıf dağılımı:\n",
      "label\n",
      "0    200\n",
      "1    200\n",
      "Name: count, dtype: int64\n"
     ]
    }
   ],
   "source": [
    "import pandas as pd\n",
    "import os\n",
    "\n",
    "data_dir = os.path.join(os.path.dirname(os.path.dirname(os.getcwd())),\"src\", \"source\", \"data\")\n",
    "\n",
    "filtered_train_data = pd.read_csv(os.path.join(data_dir, \"filtered_train.csv\"))\n",
    "filtered_test_data = pd.read_csv(os.path.join(data_dir, \"filtered_test.csv\"))\n",
    "\n",
    "train_samples = 1000\n",
    "val_samples = 100\n",
    "test_samples = 200\n",
    "\n",
    "demo_data = {}\n",
    "for label in [0, 1]:\n",
    "    train_class_data = filtered_train_data[filtered_train_data['label'] == label]\n",
    "    train_val_samples = train_class_data.sample(n=train_samples + val_samples)\n",
    "    \n",
    "    demo_data[f'train_{label}'] = train_val_samples.iloc[:train_samples]\n",
    "    demo_data[f'val_{label}'] = train_val_samples.iloc[train_samples:]\n",
    "    \n",
    "    test_class_data = filtered_test_data[filtered_test_data['label'] == label]\n",
    "    demo_data[f'test_{label}'] = test_class_data.sample(n=test_samples)\n",
    "\n",
    "demo_train = pd.concat([demo_data['train_0'], demo_data['train_1']])\n",
    "demo_val = pd.concat([demo_data['val_0'], demo_data['val_1']])\n",
    "demo_test = pd.concat([demo_data['test_0'], demo_data['test_1']])\n",
    "\n",
    "demo_train = demo_train.sample(frac=1).reset_index(drop=True)\n",
    "demo_val = demo_val.sample(frac=1).reset_index(drop=True)\n",
    "demo_test = demo_test.sample(frac=1).reset_index(drop=True)\n",
    "\n",
    "print(f\"Demo train data shape: {demo_train.shape}\")      # (1000, 2)\n",
    "print(f\"Demo validation data shape: {demo_val.shape}\")   # (100, 2)\n",
    "print(f\"Demo test data shape: {demo_test.shape}\")        # (200, 2)\n",
    "\n",
    "demo_dir = os.path.join(os.getcwd(), \"data\")\n",
    "os.makedirs(demo_dir, exist_ok=True)\n",
    "\n",
    "demo_train.to_csv(os.path.join(demo_dir, \"demo_train.csv\"), index=False)\n",
    "demo_val.to_csv(os.path.join(demo_dir, \"demo_val.csv\"), index=False)\n",
    "demo_test.to_csv(os.path.join(demo_dir, \"demo_test.csv\"), index=False)\n",
    "\n",
    "print(\"\\nTrain set sınıf dağılımı:\")\n",
    "print(demo_train['label'].value_counts())\n",
    "print(\"\\nValidation set sınıf dağılımı:\")\n",
    "print(demo_val['label'].value_counts())\n",
    "print(\"\\nTest set sınıf dağılımı:\")\n",
    "print(demo_test['label'].value_counts())"
   ]
  }
 ],
 "metadata": {
  "kernelspec": {
   "display_name": "Python 3",
   "language": "python",
   "name": "python3"
  },
  "language_info": {
   "codemirror_mode": {
    "name": "ipython",
    "version": 3
   },
   "file_extension": ".py",
   "mimetype": "text/x-python",
   "name": "python",
   "nbconvert_exporter": "python",
   "pygments_lexer": "ipython3",
   "version": "3.12.7"
  }
 },
 "nbformat": 4,
 "nbformat_minor": 2
}
